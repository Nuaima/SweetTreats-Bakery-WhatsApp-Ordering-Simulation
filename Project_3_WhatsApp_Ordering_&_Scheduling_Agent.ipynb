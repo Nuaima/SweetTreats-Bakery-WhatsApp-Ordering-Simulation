{
  "nbformat": 4,
  "nbformat_minor": 0,
  "metadata": {
    "colab": {
      "provenance": []
    },
    "kernelspec": {
      "name": "python3",
      "display_name": "Python 3"
    },
    "language_info": {
      "name": "python"
    }
  },
  "cells": [
    {
      "cell_type": "code",
      "execution_count": 4,
      "metadata": {
        "colab": {
          "base_uri": "https://localhost:8080/"
        },
        "id": "jb0E6GLyZ_YV",
        "outputId": "40fc8a92-e05d-486e-e2b8-230ea256414b"
      },
      "outputs": [
        {
          "output_type": "stream",
          "name": "stdout",
          "text": [
            "👋 Hi! Welcome to SweetTreats Bakery.\n",
            "What's your name?\n",
            "> numa\n",
            "\n",
            "Welcome, numa! Would you like to place an order for pickup? (yes/no)\n",
            "> yes\n",
            "\n",
            "What would you like to order?\n",
            "> coke\n",
            "How many coke(s) would you like?\n",
            "> 2\n",
            "Would you like to add another item? (yes/no)\n",
            "> yes\n",
            "\n",
            "What would you like to order?\n",
            "> cake\n",
            "How many cake(s) would you like?\n",
            "> 1\n",
            "Would you like to add another item? (yes/no)\n",
            "> no\n",
            "\n",
            "When would you like to pick up your order? (e.g., 4 PM)\n",
            "> 5\n",
            "\n",
            "🧾 Order Summary:\n",
            "  1. 2 x coke(s)\n",
            "  2. 1 x cake(s)\n",
            "Pickup Time: 5\n",
            "\n",
            "Is everything correct? (yes/no)\n",
            "> yes\n",
            "\n",
            "✅ Thank you, numa! Your order has been confirmed for 5. 🎉\n",
            "Simulated backend action triggered: Order saved!\n",
            "\n"
          ]
        }
      ],
      "source": [
        "import time\n",
        "\n",
        "def get_input(prompt):\n",
        "    \"\"\"Handles user input with stripping and retries if empty.\"\"\"\n",
        "    while True:\n",
        "        user_input = input(prompt).strip()\n",
        "        if user_input:\n",
        "            return user_input\n",
        "        print(\"⚠️ Please enter something (input cannot be blank).\")\n",
        "\n",
        "def order_flow():\n",
        "    print(\"👋 Hi! Welcome to SweetTreats Bakery.\")\n",
        "    name = get_input(\"What's your name?\\n> \")\n",
        "    print(f\"\\nWelcome, {name}! Would you like to place an order for pickup? (yes/no)\")\n",
        "\n",
        "    response = get_input(\"> \").lower()\n",
        "    if response not in [\"yes\", \"y\"]:\n",
        "        print(f\"No worries, {name}! Come back anytime. 👋\")\n",
        "        return\n",
        "\n",
        "    orders = []\n",
        "\n",
        "    while True:\n",
        "        # Step 1: Take the order\n",
        "        item = get_input(\"\\nWhat would you like to order?\\n> \")\n",
        "\n",
        "        # Step 2: Quantity\n",
        "        while True:\n",
        "            quantity = get_input(f\"How many {item}(s) would you like?\\n> \")\n",
        "            if quantity.isdigit() and int(quantity) > 0:\n",
        "                quantity = int(quantity)\n",
        "                break\n",
        "            else:\n",
        "                print(\"⚠️ Please enter a valid positive number.\")\n",
        "\n",
        "        # Add to order list\n",
        "        orders.append((item, quantity))\n",
        "\n",
        "        # Ask if they want to add more items\n",
        "        add_more = get_input(\"Would you like to add another item? (yes/no)\\n> \").lower()\n",
        "        if add_more not in [\"yes\", \"y\"]:\n",
        "            break\n",
        "\n",
        "    # Step 3: Pickup time\n",
        "    pickup_time = get_input(\"\\nWhen would you like to pick up your order? (e.g., 4 PM)\\n> \")\n",
        "\n",
        "    # Step 4: Show summary\n",
        "    print(\"\\n🧾 Order Summary:\")\n",
        "    for i, (item, quantity) in enumerate(orders, start=1):\n",
        "        print(f\"  {i}. {quantity} x {item}(s)\")\n",
        "    print(f\"Pickup Time: {pickup_time}\")\n",
        "\n",
        "    # Step 5: Confirmation\n",
        "    confirm = get_input(\"\\nIs everything correct? (yes/no)\\n> \").lower()\n",
        "    if confirm in [\"yes\", \"y\"]:\n",
        "        print(f\"\\n✅ Thank you, {name}! Your order has been confirmed for {pickup_time}. 🎉\")\n",
        "        print(\"Simulated backend action triggered: Order saved!\\n\")\n",
        "    else:\n",
        "        print(\"\\nNo problem! Let’s start over.\\n\")\n",
        "        time.sleep(1)\n",
        "        order_flow()  # restart the process\n",
        "\n",
        "if __name__ == \"__main__\":\n",
        "    order_flow()\n"
      ]
    },
    {
      "cell_type": "code",
      "source": [],
      "metadata": {
        "id": "sFm9Rcl71Zup"
      },
      "execution_count": null,
      "outputs": []
    }
  ]
}